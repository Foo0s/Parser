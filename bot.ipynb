{
  "cells": [
    {
      "cell_type": "markdown",
      "metadata": {
        "id": "view-in-github",
        "colab_type": "text"
      },
      "source": [
        "<a href=\"https://colab.research.google.com/github/Foo0s/Parser/blob/main/bot.ipynb\" target=\"_parent\"><img src=\"https://colab.research.google.com/assets/colab-badge.svg\" alt=\"Open In Colab\"/></a>"
      ]
    },
    {
      "cell_type": "markdown",
      "metadata": {
        "id": "tvo9q-SmzUgF"
      },
      "source": [
        "Telegram Bot"
      ]
    },
    {
      "cell_type": "code",
      "execution_count": null,
      "metadata": {
        "colab": {
          "base_uri": "https://localhost:8080/"
        },
        "id": "TmDEutrIzZK1",
        "outputId": "eb5862fd-4edb-4f40-e57d-850f8207424b"
      },
      "outputs": [
        {
          "output_type": "stream",
          "name": "stdout",
          "text": [
            "Looking in indexes: https://pypi.org/simple, https://us-python.pkg.dev/colab-wheels/public/simple/\n",
            "Collecting pyTelegramBotAPI\n",
            "  Downloading pyTelegramBotAPI-4.7.0.tar.gz (210 kB)\n",
            "\u001b[?25l\r\u001b[K     |█▌                              | 10 kB 39.7 MB/s eta 0:00:01\r\u001b[K     |███                             | 20 kB 46.8 MB/s eta 0:00:01\r\u001b[K     |████▋                           | 30 kB 56.1 MB/s eta 0:00:01\r\u001b[K     |██████▏                         | 40 kB 36.1 MB/s eta 0:00:01\r\u001b[K     |███████▊                        | 51 kB 40.9 MB/s eta 0:00:01\r\u001b[K     |█████████▎                      | 61 kB 46.3 MB/s eta 0:00:01\r\u001b[K     |██████████▉                     | 71 kB 30.0 MB/s eta 0:00:01\r\u001b[K     |████████████▍                   | 81 kB 31.6 MB/s eta 0:00:01\r\u001b[K     |██████████████                  | 92 kB 34.5 MB/s eta 0:00:01\r\u001b[K     |███████████████▌                | 102 kB 36.0 MB/s eta 0:00:01\r\u001b[K     |█████████████████               | 112 kB 36.0 MB/s eta 0:00:01\r\u001b[K     |██████████████████▋             | 122 kB 36.0 MB/s eta 0:00:01\r\u001b[K     |████████████████████▏           | 133 kB 36.0 MB/s eta 0:00:01\r\u001b[K     |█████████████████████▊          | 143 kB 36.0 MB/s eta 0:00:01\r\u001b[K     |███████████████████████▎        | 153 kB 36.0 MB/s eta 0:00:01\r\u001b[K     |████████████████████████▉       | 163 kB 36.0 MB/s eta 0:00:01\r\u001b[K     |██████████████████████████▍     | 174 kB 36.0 MB/s eta 0:00:01\r\u001b[K     |████████████████████████████    | 184 kB 36.0 MB/s eta 0:00:01\r\u001b[K     |█████████████████████████████▌  | 194 kB 36.0 MB/s eta 0:00:01\r\u001b[K     |███████████████████████████████ | 204 kB 36.0 MB/s eta 0:00:01\r\u001b[K     |████████████████████████████████| 210 kB 36.0 MB/s \n",
            "\u001b[?25hRequirement already satisfied: requests in /usr/local/lib/python3.7/dist-packages (from pyTelegramBotAPI) (2.23.0)\n",
            "Requirement already satisfied: urllib3!=1.25.0,!=1.25.1,<1.26,>=1.21.1 in /usr/local/lib/python3.7/dist-packages (from requests->pyTelegramBotAPI) (1.24.3)\n",
            "Requirement already satisfied: idna<3,>=2.5 in /usr/local/lib/python3.7/dist-packages (from requests->pyTelegramBotAPI) (2.10)\n",
            "Requirement already satisfied: certifi>=2017.4.17 in /usr/local/lib/python3.7/dist-packages (from requests->pyTelegramBotAPI) (2022.9.24)\n",
            "Requirement already satisfied: chardet<4,>=3.0.2 in /usr/local/lib/python3.7/dist-packages (from requests->pyTelegramBotAPI) (3.0.4)\n",
            "Building wheels for collected packages: pyTelegramBotAPI\n",
            "  Building wheel for pyTelegramBotAPI (setup.py) ... \u001b[?25l\u001b[?25hdone\n",
            "  Created wheel for pyTelegramBotAPI: filename=pyTelegramBotAPI-4.7.0-py3-none-any.whl size=192826 sha256=381d5b91bcb50265b49221f4dc30d377ca54b0cbe1064d21b17397d743ed57a6\n",
            "  Stored in directory: /root/.cache/pip/wheels/ba/13/da/8abf941f7cf9f993cde6118a56a7c24e12ed791507acd8ea39\n",
            "Successfully built pyTelegramBotAPI\n",
            "Installing collected packages: pyTelegramBotAPI\n",
            "Successfully installed pyTelegramBotAPI-4.7.0\n",
            "Looking in indexes: https://pypi.org/simple, https://us-python.pkg.dev/colab-wheels/public/simple/\n",
            "Requirement already satisfied: requests in /usr/local/lib/python3.7/dist-packages (2.23.0)\n",
            "Requirement already satisfied: urllib3!=1.25.0,!=1.25.1,<1.26,>=1.21.1 in /usr/local/lib/python3.7/dist-packages (from requests) (1.24.3)\n",
            "Requirement already satisfied: certifi>=2017.4.17 in /usr/local/lib/python3.7/dist-packages (from requests) (2022.9.24)\n",
            "Requirement already satisfied: idna<3,>=2.5 in /usr/local/lib/python3.7/dist-packages (from requests) (2.10)\n",
            "Requirement already satisfied: chardet<4,>=3.0.2 in /usr/local/lib/python3.7/dist-packages (from requests) (3.0.4)\n",
            "Looking in indexes: https://pypi.org/simple, https://us-python.pkg.dev/colab-wheels/public/simple/\n",
            "Requirement already satisfied: beautifulsoup4 in /usr/local/lib/python3.7/dist-packages (4.6.3)\n"
          ]
        }
      ],
      "source": [
        "!pip install pyTelegramBotAPI\n",
        "!pip install requests\n",
        "!pip install beautifulsoup4"
      ]
    },
    {
      "cell_type": "code",
      "execution_count": null,
      "metadata": {
        "id": "S9ET3owJ0reU"
      },
      "outputs": [],
      "source": [
        "import requests\n",
        "from bs4 import BeautifulSoup\n",
        "import telebot"
      ]
    },
    {
      "cell_type": "code",
      "execution_count": null,
      "metadata": {
        "id": "Vz3xBkIqtQER"
      },
      "outputs": [],
      "source": [
        "token = '5370592624:AAEd0NRaheH0AcAzVVUAeasnbYzTIJSAJ7M'\n",
        "kinobot = telebot.TeleBot(token)\n",
        "@kinobot.message_handler(commands=['start','help'])\n",
        "def send_message(message):\n",
        "    user = message.from_user.first_name\n",
        "    kinobot.send_message(message.chat.id, f'Привет {user}, я Кинобот и я могу найти любой фильм в базе данных кинопоиска,'\n",
        "                                          f' просто вводишь название, а я вывожу на твой экран информацию об этом фильме :)')"
      ]
    },
    {
      "cell_type": "code",
      "execution_count": null,
      "metadata": {
        "id": "MHGaronx0sus"
      },
      "outputs": [],
      "source": [
        "@kinobot.message_handler()\n",
        "def send_films(message):\n",
        "    try:\n",
        "        response = requests.get('https://www.kinopoisk.ru/index.php?kp_query=' + str(message.text))\n",
        "        soup = BeautifulSoup(response.text, 'lxml')\n",
        "        a = soup.find('div', class_=\"search_results\")\n",
        "        b = a.find('p', class_=\"name\").get_text()\n",
        "        n = a.find('span', class_=\"year\").get_text()\n",
        "        m = a.find('div', class_=\"rating\").get_text()\n",
        "        #mem = m.find('div', class_=\"rating ratingGreenBG\").get_text()\n",
        "        kinobot.send_message(message.chat.id, f'Ваш фильм: {b}\\nГод: {n}\\nРейтинг: {m}')\n",
        "    except Exception:\n",
        "        kinobot.send_message(message.chat.id, 'По вашему запросу не был найден фильм')\n",
        "\n",
        "kinobot.polling(non_stop=True)        "
      ]
    },
    {
      "cell_type": "code",
      "execution_count": null,
      "metadata": {
        "colab": {
          "base_uri": "https://localhost:8080/"
        },
        "id": "_StU2JPX06LA",
        "outputId": "1884d0e8-ff94-4f76-81eb-9b4ee29073ba"
      },
      "outputs": [
        {
          "name": "stdout",
          "output_type": "stream",
          "text": [
            "None\n"
          ]
        }
      ],
      "source": []
    }
  ],
  "metadata": {
    "colab": {
      "collapsed_sections": [],
      "provenance": [],
      "authorship_tag": "ABX9TyNlP2jBkh8fNY/EueYsKkST",
      "include_colab_link": true
    },
    "kernelspec": {
      "display_name": "Python 3",
      "name": "python3"
    },
    "language_info": {
      "name": "python"
    }
  },
  "nbformat": 4,
  "nbformat_minor": 0
}