{
  "nbformat": 4,
  "nbformat_minor": 0,
  "metadata": {
    "colab": {
      "provenance": [],
      "authorship_tag": "ABX9TyPd4QSeazYb6VExSK9qpWS4",
      "include_colab_link": true
    },
    "kernelspec": {
      "name": "python3",
      "display_name": "Python 3"
    },
    "language_info": {
      "name": "python"
    }
  },
  "cells": [
    {
      "cell_type": "markdown",
      "metadata": {
        "id": "view-in-github",
        "colab_type": "text"
      },
      "source": [
        "<a href=\"https://colab.research.google.com/github/Foo0s/Parser/blob/main/botIMDB.ipynb\" target=\"_parent\"><img src=\"https://colab.research.google.com/assets/colab-badge.svg\" alt=\"Open In Colab\"/></a>"
      ]
    },
    {
      "cell_type": "code",
      "source": [
        "!pip install pyTelegramBotAPI\n",
        "!pip install requests\n",
        "!pip install beautifulsoup4"
      ],
      "metadata": {
        "colab": {
          "base_uri": "https://localhost:8080/"
        },
        "id": "kXNlsEz-2S-C",
        "outputId": "6594433b-493f-471f-8d65-30bb20f49758"
      },
      "execution_count": null,
      "outputs": [
        {
          "output_type": "stream",
          "name": "stdout",
          "text": [
            "Looking in indexes: https://pypi.org/simple, https://us-python.pkg.dev/colab-wheels/public/simple/\n",
            "Requirement already satisfied: pyTelegramBotAPI in /usr/local/lib/python3.7/dist-packages (4.7.0)\n",
            "Requirement already satisfied: requests in /usr/local/lib/python3.7/dist-packages (from pyTelegramBotAPI) (2.23.0)\n",
            "Requirement already satisfied: certifi>=2017.4.17 in /usr/local/lib/python3.7/dist-packages (from requests->pyTelegramBotAPI) (2022.9.24)\n",
            "Requirement already satisfied: urllib3!=1.25.0,!=1.25.1,<1.26,>=1.21.1 in /usr/local/lib/python3.7/dist-packages (from requests->pyTelegramBotAPI) (1.24.3)\n",
            "Requirement already satisfied: idna<3,>=2.5 in /usr/local/lib/python3.7/dist-packages (from requests->pyTelegramBotAPI) (2.10)\n",
            "Requirement already satisfied: chardet<4,>=3.0.2 in /usr/local/lib/python3.7/dist-packages (from requests->pyTelegramBotAPI) (3.0.4)\n",
            "Looking in indexes: https://pypi.org/simple, https://us-python.pkg.dev/colab-wheels/public/simple/\n",
            "Requirement already satisfied: requests in /usr/local/lib/python3.7/dist-packages (2.23.0)\n",
            "Requirement already satisfied: certifi>=2017.4.17 in /usr/local/lib/python3.7/dist-packages (from requests) (2022.9.24)\n",
            "Requirement already satisfied: chardet<4,>=3.0.2 in /usr/local/lib/python3.7/dist-packages (from requests) (3.0.4)\n",
            "Requirement already satisfied: idna<3,>=2.5 in /usr/local/lib/python3.7/dist-packages (from requests) (2.10)\n",
            "Requirement already satisfied: urllib3!=1.25.0,!=1.25.1,<1.26,>=1.21.1 in /usr/local/lib/python3.7/dist-packages (from requests) (1.24.3)\n",
            "Looking in indexes: https://pypi.org/simple, https://us-python.pkg.dev/colab-wheels/public/simple/\n",
            "Requirement already satisfied: beautifulsoup4 in /usr/local/lib/python3.7/dist-packages (4.6.3)\n"
          ]
        }
      ]
    },
    {
      "cell_type": "code",
      "execution_count": null,
      "metadata": {
        "id": "ETckFR9W2MQZ"
      },
      "outputs": [],
      "source": [
        "from logging import exception\n",
        "import telebot\n",
        "import requests\n",
        "from bs4 import BeautifulSoup\n",
        "\n",
        "token = '5461962408:AAFxJHG_3pVBicGeT3i0aL_VxAlaNUO2jDw'\n",
        "sferabot = telebot.TeleBot(token)\n",
        "\n",
        "\n",
        "@sferabot.message_handler(commands=['start','help'])\n",
        "def send_message(message):\n",
        "    user = message.from_user.first_name\n",
        "    sferabot.send_message(message.chat.id, f'Привет {user}, я Кинобот и я могу найти любой фильм в базе данных IMDB')\n",
        "\n",
        "\n",
        "@sferabot.message_handler()\n",
        "def send_film(message):\n",
        "  try:\n",
        "        response = requests.get('https://www.imdb.com/search/title/?title=' + str(message.text))\n",
        "        soup = BeautifulSoup(response.text, 'lxml')\n",
        "        poisk = soup.find('div', class_=\"ratings-bar\")\n",
        "        rating = poisk.find('div',class_=\"inline-block ratings-imdb-rating\").get_text().strip()\n",
        "        data = soup.find('span', class_='lister-item-year text-muted unbold').get_text()\n",
        "        name = soup.find('h3', class_=\"lister-item-header\")\n",
        "        full_name = name.find('a').get_text()\n",
        "        MetaScore = soup.find('div', class_=\"inline-block ratings-metascore\").get_text().strip().replace('Metascore','')\n",
        "        sferabot.send_message(message.chat.id,f'Ваш фильм: {full_name} \\nДата выхода: {data}\\nРейтинг фильма: {rating}\\nКритика от Metascore: {MetaScore}')\n",
        "  except Exception:\n",
        "        sferabot.send_message(message.chat.id, 'По вашему запросу не был найден фильм')      \n",
        "\n",
        "\n",
        "\n",
        "sferabot.polling(non_stop=True)"
      ]
    },
    {
      "cell_type": "code",
      "source": [
        "#Тут я так тренировался :)\n",
        "a = 'harry'\n",
        "response = requests.get('https://www.imdb.com/search/title/?title=' + a)\n",
        "soup = BeautifulSoup(response.text, 'lxml')\n",
        "MetaScore = soup.find('div', class_=\"inline-block ratings-metascore\").get_text()\n",
        "#Metascore = MetaScore.find('span', class_=\"metascore  favorable\").get_text()\n",
        "print(MetaScore)"
      ],
      "metadata": {
        "id": "FdFe8ADcSxAK",
        "colab": {
          "base_uri": "https://localhost:8080/"
        },
        "outputId": "888cad70-ca31-40e4-e66c-089cf8254ee1"
      },
      "execution_count": null,
      "outputs": [
        {
          "output_type": "stream",
          "name": "stdout",
          "text": [
            "\n",
            "65        \n",
            "        Metascore\n",
            "            \n"
          ]
        }
      ]
    },
    {
      "cell_type": "code",
      "source": [
        "\n",
        "lambda x, y: x+y"
      ],
      "metadata": {
        "colab": {
          "base_uri": "https://localhost:8080/"
        },
        "id": "wN05bukF5X8-",
        "outputId": "4527c8b6-ce64-4955-d39e-92ea7a9782b1"
      },
      "execution_count": null,
      "outputs": [
        {
          "output_type": "execute_result",
          "data": {
            "text/plain": [
              "<function __main__.<lambda>>"
            ]
          },
          "metadata": {},
          "execution_count": 83
        }
      ]
    }
  ]
}